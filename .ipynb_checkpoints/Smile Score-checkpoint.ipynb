{
 "cells": [
  {
   "cell_type": "code",
   "execution_count": 1,
   "id": "0664ae49",
   "metadata": {},
   "outputs": [],
   "source": [
    "import random\n",
    "import cv2\n",
    "import time"
   ]
  },
  {
   "cell_type": "code",
   "execution_count": 2,
   "id": "5e15688e",
   "metadata": {},
   "outputs": [],
   "source": [
    "facec=cv2.CascadeClassifier('/Users/prabavmurali/Documents/GitHub/SmileScore/haarcascade_frontalface_default.xml')\n",
    "smilec=cv2.CascadeClassifier(\"/Users/prabavmurali/Documents/GitHub/SmileScore/haarcascades/haarcascade_smile.xml\")\n",
    "video=cv2.VideoCapture(0)"
   ]
  },
  {
   "cell_type": "code",
   "execution_count": 3,
   "id": "8d4692f6",
   "metadata": {},
   "outputs": [],
   "source": [
    "n=0\n",
    "def smilescore(frame,x1,y1):\n",
    "    global n\n",
    "    if n>4000:\n",
    "        x=str(random.randint(0,100))\n",
    "        fonts=cv2.FONT_HERSHEY_TRIPLEX\n",
    "        colour=(255,0,244)\n",
    "        words=cv2.putText(frame,\"Smile score is\",(int(x1)+15,int(y1)-70),fonts,1,colour,4,cv2.LINE_AA)\n",
    "        words=cv2.putText(frame,x+\"%\",(int(x1)+50,int(y1)-20),fonts,1,colour,4,cv2.LINE_AA)\n",
    "        time.sleep(15)\n",
    "        n=0\n",
    "        return n\n",
    "    else:\n",
    "        x=str(random.randint(0,100))\n",
    "        fonts=cv2.FONT_HERSHEY_TRIPLEX\n",
    "        colour=(255,0,255)\n",
    "        words=cv2.putText(frame,\"Smile Score is\",(int(x1)+15,int(y1)-70),fonts,1,colour,4,cv2.LINE_AA)\n",
    "        words=cv2.putText(frame,x+\"%\",(int(x1)+50,int(y1)-20),fonts,1,colour,4,cv2.LINE_AA)\n",
    "        n+=5\n",
    "        return n"
   ]
  },
  {
   "cell_type": "code",
   "execution_count": 4,
   "id": "6c96751d",
   "metadata": {},
   "outputs": [
    {
     "ename": "KeyboardInterrupt",
     "evalue": "",
     "output_type": "error",
     "traceback": [
      "\u001b[0;31m---------------------------------------------------------------------------\u001b[0m",
      "\u001b[0;31mKeyboardInterrupt\u001b[0m                         Traceback (most recent call last)",
      "\u001b[0;32m/var/folders/pw/16m9qkms7_1fjk278nchj_h00000gn/T/ipykernel_3587/2532307632.py\u001b[0m in \u001b[0;36m<module>\u001b[0;34m\u001b[0m\n\u001b[1;32m      1\u001b[0m \u001b[0;32mwhile\u001b[0m \u001b[0;32mTrue\u001b[0m\u001b[0;34m:\u001b[0m\u001b[0;34m\u001b[0m\u001b[0;34m\u001b[0m\u001b[0m\n\u001b[0;32m----> 2\u001b[0;31m     \u001b[0mcheck\u001b[0m\u001b[0;34m,\u001b[0m\u001b[0mframe\u001b[0m\u001b[0;34m=\u001b[0m\u001b[0mvideo\u001b[0m\u001b[0;34m.\u001b[0m\u001b[0mread\u001b[0m\u001b[0;34m(\u001b[0m\u001b[0;34m)\u001b[0m\u001b[0;34m\u001b[0m\u001b[0;34m\u001b[0m\u001b[0m\n\u001b[0m\u001b[1;32m      3\u001b[0m     \u001b[0mgrey\u001b[0m\u001b[0;34m=\u001b[0m\u001b[0mcv2\u001b[0m\u001b[0;34m.\u001b[0m\u001b[0mcvtColor\u001b[0m\u001b[0;34m(\u001b[0m\u001b[0mframe\u001b[0m\u001b[0;34m,\u001b[0m\u001b[0mcv2\u001b[0m\u001b[0;34m.\u001b[0m\u001b[0mCOLOR_BGR2GRAY\u001b[0m\u001b[0;34m)\u001b[0m\u001b[0;34m\u001b[0m\u001b[0;34m\u001b[0m\u001b[0m\n\u001b[1;32m      4\u001b[0m     \u001b[0mface\u001b[0m\u001b[0;34m=\u001b[0m\u001b[0mfacec\u001b[0m\u001b[0;34m.\u001b[0m\u001b[0mdetectMultiScale\u001b[0m\u001b[0;34m(\u001b[0m\u001b[0mgrey\u001b[0m\u001b[0;34m,\u001b[0m\u001b[0mscaleFactor\u001b[0m\u001b[0;34m=\u001b[0m\u001b[0;36m1.1\u001b[0m\u001b[0;34m,\u001b[0m\u001b[0mminNeighbors\u001b[0m\u001b[0;34m=\u001b[0m\u001b[0;36m5\u001b[0m\u001b[0;34m)\u001b[0m\u001b[0;34m\u001b[0m\u001b[0;34m\u001b[0m\u001b[0m\n\u001b[1;32m      5\u001b[0m     \u001b[0;32mfor\u001b[0m \u001b[0mw\u001b[0m\u001b[0;34m,\u001b[0m\u001b[0mx\u001b[0m\u001b[0;34m,\u001b[0m\u001b[0my\u001b[0m\u001b[0;34m,\u001b[0m\u001b[0mz\u001b[0m \u001b[0;32min\u001b[0m \u001b[0mface\u001b[0m\u001b[0;34m:\u001b[0m\u001b[0;34m\u001b[0m\u001b[0;34m\u001b[0m\u001b[0m\n",
      "\u001b[0;31mKeyboardInterrupt\u001b[0m: "
     ]
    }
   ],
   "source": [
    "while True:\n",
    "    check,frame=video.read()\n",
    "    grey=cv2.cvtColor(frame,cv2.COLOR_BGR2GRAY)\n",
    "    face=facec.detectMultiScale(grey,scaleFactor=1.1,minNeighbors=5)\n",
    "    for w,x,y,z in face:\n",
    "        img=cv2.rectangle(frame,(w,x),(w+(y+20),x+(z-300)),(0,0,255),-1)\n",
    "        smile=smilec.detectMultiScale(grey,scaleFactor=1.8,minNeighbors=20)\n",
    "        for w1,x1,y1,z1 in smile:\n",
    "            img=cv2.rectangle(frame,(w1,x1),(w1+(y1),x1+(z1)),(255,0,0),3)\n",
    "            smilescore(frame,x,y)\n",
    "    cv2.imshow(\"Smile Score\",frame)\n",
    "    key=cv2.waitKey(1)\n",
    "    if key==ord('q'):\n",
    "        break\n",
    "video.release()\n",
    "cv2.destroyAllWindows"
   ]
  },
  {
   "cell_type": "code",
   "execution_count": null,
   "id": "94e50778",
   "metadata": {},
   "outputs": [],
   "source": []
  }
 ],
 "metadata": {
  "kernelspec": {
   "display_name": "Python 3 (ipykernel)",
   "language": "python",
   "name": "python3"
  },
  "language_info": {
   "codemirror_mode": {
    "name": "ipython",
    "version": 3
   },
   "file_extension": ".py",
   "mimetype": "text/x-python",
   "name": "python",
   "nbconvert_exporter": "python",
   "pygments_lexer": "ipython3",
   "version": "3.9.7"
  }
 },
 "nbformat": 4,
 "nbformat_minor": 5
}
